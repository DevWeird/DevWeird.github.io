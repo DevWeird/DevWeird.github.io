{
 "cells": [
  {
   "cell_type": "markdown",
   "id": "58513dbb-d4c4-4801-b187-ad2f9aa938ac",
   "metadata": {},
   "source": [
    "<style>\n",
    "    r { color:red }\n",
    "    b { color:blue }\n",
    "    g { color:green }\n",
    "</style>"
   ]
  },
  {
   "cell_type": "markdown",
   "id": "6c110739-4f3c-41e9-9348-e83e8c7e3f87",
   "metadata": {
    "tags": []
   },
   "source": [
    "# How to Json Serialization with CSharp"
   ]
  },
  {
   "cell_type": "markdown",
   "id": "27d29198-12a6-43ab-beee-8d851ee2e4ec",
   "metadata": {},
   "source": [
    "<a href=https://jupyter-notebook.readthedocs.io/en/stable/>\"ReadTheDocs\"</a><br/>\n",
    "<a href=https://www.math.ubc.ca/~pwalls/math-python/jupyter/latex/>\"Math Latex\"</a><br/>\n",
    "\n",
    "<a href=\"#Nuget-Package-Installation\">Nuget Package Installation</a><br/>\n",
    "<a href=\"#Reference-to-Newtonsoft.Json\">Reference to Newtonsoft.Json</a><br/>\n",
    "<a href=\"#Define-C#-Object\">Define C# Object</a><br/>\n",
    "<a href=\"#Serialize-Simple-Object-Demo\">Serialize Simple Object Demo</a><br/>\n",
    "<a href=\"#Serialize-Full-Object-Demo\">Serialize Full Object Demo</a><br/>"
   ]
  },
  {
   "cell_type": "markdown",
   "id": "9ff0be7d-7016-4e6d-bfa6-43810b5bffd4",
   "metadata": {
    "tags": []
   },
   "source": [
    "# Nuget Package Installation\n",
    "\n",
    "<details>\n",
    "<summary><font color=red>Detail View</font></summary>\n",
    "    \n",
    "In order to **Serialize** C# Object to Json string or **Deserialize** Json string to C# Object, <br/>\n",
    "firstly install NewtonSoft.Json Nuget Package.\n",
    "\n",
    "### Nuget Package Installation for \"Newtonsoft.Json\"\n",
    "```CSharp\n",
    "#r \"Newtonsoft.Json\"\n",
    "```\n",
    "<br/>\n",
    "</details>\n",
    "\n",
    "<hr style=\"border:1px solid blue\">\n",
    "<div style=\"text-align:right\">[<a href=\"#How-to-Json-Serialization-with-CSharp\">Back to Top</a>]</div><br/>\n"
   ]
  },
  {
   "cell_type": "markdown",
   "id": "e3d03cfb-65cc-4e2c-9e97-7db2f8a18fa5",
   "metadata": {},
   "source": [
    "# Reference to Newtonsoft.Json\n",
    "\n",
    "<details>\n",
    "<summary><font color=red>Detail View</font></summary>\n",
    "    \n",
    "In order to use *Newtonsoft.Json* Package<br/>\n",
    "**using** statement must be described.\n",
    "\n",
    "```CSharp\n",
    "using Newtonsoft.Json;\n",
    "```\n",
    "\n",
    "<br/>\n",
    "</details>\n",
    "<hr style=\"border:1px solid blue\">\n",
    "<div style=\"text-align:right\">[<a href=\"#How-to-Json-Serialization-with-CSharp\">Back to Top</a>]</div><br/>\n"
   ]
  },
  {
   "cell_type": "code",
   "execution_count": 80,
   "id": "cfae4592-8acd-44fa-9c71-856fb61d9163",
   "metadata": {
    "tags": []
   },
   "outputs": [],
   "source": [
    "#r \"Newtonsoft.Json\"\n",
    "\n",
    "using Newtonsoft.Json;\n",
    "using System.Collections;"
   ]
  },
  {
   "cell_type": "markdown",
   "id": "9670115b-2e9c-4030-8892-4a0473d6d261",
   "metadata": {
    "tags": []
   },
   "source": [
    "# Define C# Object\n",
    "\n",
    "<details>\n",
    "    <summary><font color=red>Detail View</font></summary>\n",
    "\n",
    "Define Simple class which has just 4 simple string properties<br/>\n",
    "This simple class will have just **Column name** information not the **Data**\n",
    "\n",
    "```CSharp\n",
    "public class MGPS\n",
    "{\n",
    "    public List<string> Anode {get; set;}        // \"[CU1, AL1, CU2, AL2, ...]\" \n",
    "    public List<string> SeaChest {get; set;}     // \"[SCU, SCUHigh, SCULow, ...]\"\n",
    "}\n",
    "```\n",
    "<br/>\n",
    "\n",
    "</details>\n",
    "\n",
    "<hr style=\"border:1px solid blue\">\n",
    "<div style=\"text-align:right\">[<a href=\"#How-to-Json-Serialization-with-CSharp\">Back to Top</a>]</div><br/>\n"
   ]
  },
  {
   "cell_type": "code",
   "execution_count": 106,
   "id": "4d92788b-0dcd-4fe4-8ca8-9374f6ac269e",
   "metadata": {
    "jupyter": {
     "source_hidden": true
    },
    "tags": []
   },
   "outputs": [],
   "source": [
    "// class Definition for C# Object\n",
    "public class MGPS\n",
    "{\n",
    "    public List<string> Anode {get; set;}        // \"[CU1, AL1, CU2, AL2, ...]\" \n",
    "    public List<string> SeaChest {get; set;}     // \"[SCU, SCUHigh, SCULow, ...]\"\n",
    "}\n",
    "\n",
    "public class HosunLog\n",
    "{\n",
    "    public List<string> CN_Basic {get; set;}\n",
    "    public List<string> CN_Maintenance {get; set;}\n",
    "    public List<string> CN_Capacity {get; set;}\n",
    "    public List<string> CN_Default {get; set;}\n",
    "    public List<List<string>> CN_ICCP {get; set;}\n",
    "    public MGPS CN_MGPS {get; set;}\n",
    "    public List<string> CN_Shaft {get; set;}\n",
    "}"
   ]
  },
  {
   "cell_type": "markdown",
   "id": "f918e2f8-c894-4884-90f9-dbd295aa11f0",
   "metadata": {
    "tags": []
   },
   "source": [
    "\n",
    "\n",
    "<hr style=\"border:10px solid #ffbbaa\"/>\n",
    "\n",
    "# Serialize Simple Object Demo\n",
    "\n",
    "<details>\n",
    "    <summary><font color=red>Detail View</font></summary>\n",
    "Initialize MGPS Type mgps instance like below:\n",
    "\n",
    "```CSharp\n",
    "MGPS mgps = new MGPSMGPS()\n",
    "{\n",
    "    Anode = new List<string> {\n",
    "        \"CU1\", \"AL1\", \"CU2\", \"AL2\"\n",
    "    },\n",
    "    SeaChest = new List<string> {\n",
    "        \"SeaChest\"\n",
    "    }\n",
    "};\n",
    "```\n",
    "<br/>\n",
    "\n",
    "Inorder to indedted format of Json string for  legibility,<br/>\n",
    "use <font color=green>*Formatting.Indented*</font> option in the \n",
    "<font color=red>**JsonConvert.SerializeObject(**</font><font color=green> _instance_</font>, <font color=green>_option_</font><font color=red> **)**</font> method\n",
    "\n",
    "</details>\n",
    "\n",
    "\n",
    "<hr style=\"border:1px solid blue\"/>\n",
    "<div style=\"text-align:right\">[<a href=\"#How-to-Json-Serialization-with-CSharp\">Back to Top</a>]</div>"
   ]
  },
  {
   "cell_type": "code",
   "execution_count": 111,
   "id": "87857635-a2aa-4afd-8c3f-1d95c4d5eb42",
   "metadata": {
    "jupyter": {
     "source_hidden": true
    },
    "tags": []
   },
   "outputs": [],
   "source": [
    "// Define C# Object(Instance)\n",
    "MGPS mgps = new MGPS()\n",
    "{\n",
    "    Anode = new List<string> {\n",
    "        \"CU1\", \"AL1\", \"CU2\", \"AL2\"\n",
    "    },\n",
    "    SeaChest = new List<string> {\n",
    "        \"SeaChest\"\n",
    "    }\n",
    "};\n",
    "\n",
    "// Serialize C# Object to Json string\n",
    "string jsonMGPSString = JsonConvert.SerializeObject(mgps, Formatting.Indented);"
   ]
  },
  {
   "cell_type": "code",
   "execution_count": 112,
   "id": "7b550ed8-299b-457e-b160-62960652359e",
   "metadata": {
    "collapsed": true,
    "jupyter": {
     "outputs_hidden": true
    },
    "tags": []
   },
   "outputs": [
    {
     "data": {
      "text/plain": [
       "{\r\n",
       "  \"Anode\": [\r\n",
       "    \"CU1\",\r\n",
       "    \"AL1\",\r\n",
       "    \"CU2\",\r\n",
       "    \"AL2\"\r\n",
       "  ],\r\n",
       "  \"SeaChest\": [\r\n",
       "    \"SeaChest\"\r\n",
       "  ]\r\n",
       "}"
      ]
     },
     "execution_count": 112,
     "metadata": {},
     "output_type": "execute_result"
    }
   ],
   "source": [
    "jsonMGPSString"
   ]
  },
  {
   "cell_type": "markdown",
   "id": "d60944ae-037d-4490-99f5-42e4f6357dea",
   "metadata": {
    "tags": []
   },
   "source": [
    "\n",
    "\n",
    "<hr style=\"border:10px solid #ffbbaa\"/>\n",
    "\n",
    "# Serialize Full Object Demo\n",
    "\n",
    "<details>\n",
    "    <summary><font color=red>Detail View</font></summary>\n",
    "\n",
    "Initialize HosunLog Type Log instance like below:\n",
    "```CSharp\n",
    "HosunLog Log = new HosunLog()\n",
    "{\n",
    "    CN_Basic = new List<string> { \n",
    "        \"VesselName\", \"ProjectNumber\", \"Owner\", null \n",
    "    },\n",
    "    CN_Maintenance = new List<string> {\n",
    "        \"LastDrydock\", \"NextDrydock\", \"LastBrush\", \"AnodePeriod\" \n",
    "    },\n",
    "    CN_Capacity = new List<string> {\n",
    "        \"AFTAmpDesign\", \"AFTVoltDesign\", \"FWDAmpDesign\", \"FWDVoltDesign\" \n",
    "    },\n",
    "    CN_Default = new List<string> {\n",
    "        \"Date\", \"Location\", \"Draft\", \"SeaTemp\"\n",
    "    },\n",
    "    CN_ICCP = new List<List<string>> {\n",
    "        new List<string> { \"AFTAmp\", \"AFTVolt\", \"AFTCell1\", \"AFTCell2\"}, \n",
    "        new List<string> { \"FWDAmp\", \"FWDVolt\", \"FWDCell1\", \"FWDCell2\"}\n",
    "    },\n",
    "    CN_MGPS = new MGPS() {\n",
    "        Anode = new List<string> {\"CU1\", \"AL1\", \"CU2\", \"AL2\"},\n",
    "        SeaChest = new List<string> {\"SeaChest\"}\n",
    "    },\n",
    "    CN_Shaft = new List<string> {\n",
    "        \"Shaft\" \n",
    "    }\n",
    "};\n",
    "```\n",
    "<br/>\n",
    "\n",
    "</details>\n",
    "\n",
    "<hr style=\"border:1px solid blue\"/>\n",
    "<div style=\"text-align:right\">[<a href=\"#How-to-Json-Serialization-with-CSharp\">Back to Top</a>]</div>"
   ]
  },
  {
   "cell_type": "code",
   "execution_count": 107,
   "id": "7c56a6ed-7b65-4b75-88e2-bd6c9a945e7d",
   "metadata": {
    "jupyter": {
     "source_hidden": true
    },
    "tags": []
   },
   "outputs": [],
   "source": [
    "// Define C# Object(Instance)\n",
    "HosunLog Log = new HosunLog()\n",
    "{\n",
    "    CN_Basic = new List<string> {\n",
    "        \"VesselName\", \"ProjectNumber\", \"Owner\", null \n",
    "    },\n",
    "    CN_Maintenance = new List<string> {\n",
    "        \"LastDrydock\", \"NextDrydock\", \"LastBrush\", \"AnodePeriod\" \n",
    "    },\n",
    "    CN_Capacity = new List<string> {\n",
    "        \"AFTAmpDesign\", \"AFTVoltDesign\", \"FWDAmpDesign\", \"FWDVoltDesign\" \n",
    "    },\n",
    "    CN_Default = new List<string> {\n",
    "        \"Date\", \"Location\", \"Draft\", \"SeaTemp\"\n",
    "    },\n",
    "    CN_ICCP = new List<List<string>> {\n",
    "        new List<string> { \"AFTAmp\", \"AFTVolt\", \"AFTCell1\", \"AFTCell2\"}, \n",
    "        new List<string> { \"FWDAmp\", \"FWDVolt\", \"FWDCell1\", \"FWDCell2\"}\n",
    "    },\n",
    "    CN_MGPS = new MGPS() {\n",
    "        Anode = new List<string> {\"CU1\", \"AL1\", \"CU2\", \"AL2\"},\n",
    "        SeaChest = new List<string> {\"SeaChest\"}\n",
    "    },\n",
    "    CN_Shaft = new List<string> {\n",
    "        \"Shaft\" \n",
    "    }\n",
    "};\n",
    "\n",
    "// Serialize C# Object to Json string.\n",
    "string jsonString = JsonConvert.SerializeObject(Log, Formatting.Indented);"
   ]
  },
  {
   "cell_type": "code",
   "execution_count": 109,
   "id": "ca7b1929-cd05-40a2-b3f0-786745a5c1fc",
   "metadata": {
    "collapsed": true,
    "jupyter": {
     "outputs_hidden": true
    },
    "tags": []
   },
   "outputs": [
    {
     "data": {
      "text/plain": [
       "{\r\n",
       "  \"CN_Basic\": [\r\n",
       "    \"VesselName\",\r\n",
       "    \"ProjectNumber\",\r\n",
       "    \"Owner\",\r\n",
       "    null\r\n",
       "  ],\r\n",
       "  \"CN_Maintenance\": [\r\n",
       "    \"LastDrydock\",\r\n",
       "    \"NextDrydock\",\r\n",
       "    \"LastBrush\",\r\n",
       "    \"AnodePeriod\"\r\n",
       "  ],\r\n",
       "  \"CN_Capacity\": [\r\n",
       "    \"AFTAmpDesign\",\r\n",
       "    \"AFTVoltDesign\",\r\n",
       "    \"FWDAmpDesign\",\r\n",
       "    \"FWDVoltDesign\"\r\n",
       "  ],\r\n",
       "  \"CN_Default\": [\r\n",
       "    \"Date\",\r\n",
       "    \"Location\",\r\n",
       "    \"Draft\",\r\n",
       "    \"SeaTemp\"\r\n",
       "  ],\r\n",
       "  \"CN_ICCP\": [\r\n",
       "    [\r\n",
       "      \"AFTAmp\",\r\n",
       "      \"AFTVolt\",\r\n",
       "      \"AFTCell1\",\r\n",
       "      \"AFTCell2\"\r\n",
       "    ],\r\n",
       "    [\r\n",
       "      \"FWDAmp\",\r\n",
       "      \"FWDVolt\",\r\n",
       "      \"FWDCell1\",\r\n",
       "      \"FWDCell2\"\r\n",
       "    ]\r\n",
       "  ],\r\n",
       "  \"CN_MGPS\": {\r\n",
       "    \"Anode\": [\r\n",
       "      \"CU1\",\r\n",
       "      \"AL1\",\r\n",
       "      \"CU2\",\r\n",
       "      \"AL2\"\r\n",
       "    ],\r\n",
       "    \"SeaChest\": [\r\n",
       "      \"SeaChest\"\r\n",
       "    ]\r\n",
       "  },\r\n",
       "  \"CN_Shaft\": [\r\n",
       "    \"Shaft\"\r\n",
       "  ]\r\n",
       "}"
      ]
     },
     "execution_count": 109,
     "metadata": {},
     "output_type": "execute_result"
    }
   ],
   "source": [
    "jsonString"
   ]
  },
  {
   "cell_type": "code",
   "execution_count": null,
   "id": "5672de7b-dbe5-4762-8a40-af2400469163",
   "metadata": {},
   "outputs": [],
   "source": []
  }
 ],
 "metadata": {
  "kernelspec": {
   "display_name": ".NET (C#)",
   "language": "C#",
   "name": ".net-csharp"
  },
  "language_info": {
   "file_extension": ".cs",
   "mimetype": "text/x-csharp",
   "name": "C#",
   "pygments_lexer": "csharp",
   "version": "10.0"
  }
 },
 "nbformat": 4,
 "nbformat_minor": 5
}
